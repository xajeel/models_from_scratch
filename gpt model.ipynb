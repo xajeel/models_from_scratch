{
 "cells": [
  {
   "cell_type": "markdown",
   "id": "7b266cba-6c1f-45dc-81ae-728891456d24",
   "metadata": {},
   "source": [
    "# Data Loader"
   ]
  },
  {
   "cell_type": "code",
   "execution_count": 4,
   "id": "b026b52c-a15b-46bd-b7ce-9725e3b26ca5",
   "metadata": {},
   "outputs": [
    {
     "name": "stdout",
     "output_type": "stream",
     "text": [
      "sajeel\n"
     ]
    }
   ],
   "source": [
    "print(\"sajeel\")"
   ]
  },
  {
   "cell_type": "code",
   "execution_count": null,
   "id": "70b1762d-4c65-4b05-b8e1-278bc35c0b06",
   "metadata": {},
   "outputs": [],
   "source": []
  }
 ],
 "metadata": {
  "kernelspec": {
   "display_name": "models kernel",
   "language": "python",
   "name": "models"
  },
  "language_info": {
   "codemirror_mode": {
    "name": "ipython",
    "version": 3
   },
   "file_extension": ".py",
   "mimetype": "text/x-python",
   "name": "python",
   "nbconvert_exporter": "python",
   "pygments_lexer": "ipython3",
   "version": "3.12.11"
  }
 },
 "nbformat": 4,
 "nbformat_minor": 5
}
